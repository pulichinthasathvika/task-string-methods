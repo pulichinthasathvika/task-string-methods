{
 "cells": [
  {
   "cell_type": "markdown",
   "id": "ddb7b428",
   "metadata": {},
   "source": [
    "### isalnum()\n",
    "* the isalnum() returns True if all the char are alphanumeric, means alphabet letter (a-z) and numbers(0-9).\n",
    "* it does not take special characteras and space"
   ]
  },
  {
   "cell_type": "code",
   "execution_count": 13,
   "id": "56de5144",
   "metadata": {},
   "outputs": [
    {
     "name": "stdout",
     "output_type": "stream",
     "text": [
      "False\n",
      "False\n",
      "True\n"
     ]
    }
   ],
   "source": [
    "a='happy birthday'\n",
    "b='happy 123'   \n",
    "c='happy123'\n",
    "\n",
    "print(a.isalnum())\n",
    "print(b.isalnum())\n",
    "print(c.isalnum())"
   ]
  },
  {
   "cell_type": "markdown",
   "id": "97490585",
   "metadata": {},
   "source": [
    "### isalpha()\n",
    "* the isalpha() returns True if all the char are alphabet letters(a-z).\n",
    "* special characters are not alphabets ."
   ]
  },
  {
   "cell_type": "code",
   "execution_count": 17,
   "id": "934779f4",
   "metadata": {},
   "outputs": [
    {
     "name": "stdout",
     "output_type": "stream",
     "text": [
      "False\n",
      "True\n",
      "False\n"
     ]
    }
   ],
   "source": [
    "a='happy birthday'\n",
    "b='sathvikareddy'\n",
    "c='#$@happpppy'\n",
    "\n",
    "print(a.isalpha())\n",
    "print(b.isalpha())\n",
    "print(c.isalpha())"
   ]
  },
  {
   "cell_type": "markdown",
   "id": "f2f8cdf8",
   "metadata": {},
   "source": [
    "### islower()\n",
    "* The islower() method returns True if all the characters are in lower case, otherwise False.\n",
    "* Numbers, symbols and spaces are not checked, only alphabet characters.\n",
    "* not take any arguments."
   ]
  },
  {
   "cell_type": "code",
   "execution_count": 8,
   "id": "49b0d7f5",
   "metadata": {},
   "outputs": [
    {
     "name": "stdout",
     "output_type": "stream",
     "text": [
      "True\n",
      "True\n",
      "False\n"
     ]
    }
   ],
   "source": [
    "a='happy birthday'\n",
    "b='happy 123'\n",
    "c='Happy birthday'\n",
    "print(a.islower())\n",
    "print(b.islower())\n",
    "# print(c.islower(3,len(c)))     # uncomment to see the error"
   ]
  },
  {
   "cell_type": "markdown",
   "id": "4c8058b1",
   "metadata": {},
   "source": [
    "### isupper()\n",
    "\n",
    "* The islower() method returns True if all the characters are in upper case, otherwise False.\n",
    "* Numbers, symbols and spaces are not checked, only alphabet characters."
   ]
  },
  {
   "cell_type": "code",
   "execution_count": 33,
   "id": "0a4069c0",
   "metadata": {},
   "outputs": [
    {
     "name": "stdout",
     "output_type": "stream",
     "text": [
      "False\n",
      "True\n"
     ]
    }
   ],
   "source": [
    "a='Happy'\n",
    "b='HAPPY BIRTHDAY'\n",
    "print(a.isupper())\n",
    "print(b.isupper())"
   ]
  },
  {
   "cell_type": "markdown",
   "id": "096bf810",
   "metadata": {},
   "source": [
    "### isascii()\n",
    "* the ascii() returns true if all the characters are ascii characters(a-z).\n"
   ]
  },
  {
   "cell_type": "code",
   "execution_count": 24,
   "id": "2d20a59e",
   "metadata": {},
   "outputs": [
    {
     "name": "stdout",
     "output_type": "stream",
     "text": [
      "True\n"
     ]
    }
   ],
   "source": [
    "a='happy'\n",
    "print(a.isascii())\n"
   ]
  },
  {
   "cell_type": "code",
   "execution_count": 20,
   "id": "9adc3476",
   "metadata": {},
   "outputs": [
    {
     "name": "stdout",
     "output_type": "stream",
     "text": [
      "Help on method_descriptor:\n",
      "\n",
      "isascii(self, /)\n",
      "    Return True if all characters in the string are ASCII, False otherwise.\n",
      "    \n",
      "    ASCII characters have code points in the range U+0000-U+007F.\n",
      "    Empty string is ASCII too.\n",
      "\n"
     ]
    }
   ],
   "source": [
    "help(str.isascii)"
   ]
  },
  {
   "cell_type": "markdown",
   "id": "aae3d7d4",
   "metadata": {},
   "source": [
    "### isdecimal()\n",
    "* the isdecimal() method returns true if all the characters are decimals(0-9)\n",
    "* this method can also udes on unicode objects."
   ]
  },
  {
   "cell_type": "code",
   "execution_count": 28,
   "id": "a53903c1",
   "metadata": {},
   "outputs": [
    {
     "name": "stdout",
     "output_type": "stream",
     "text": [
      "False\n",
      "True\n",
      "False\n"
     ]
    }
   ],
   "source": [
    "a='hello'\n",
    "b='56788'\n",
    "c='#$%'\n",
    "\n",
    "print(a.isdecimal())\n",
    "print(b.isdecimal())\n",
    "print(c.isdecimal())"
   ]
  },
  {
   "cell_type": "code",
   "execution_count": 29,
   "id": "e7d99a3f",
   "metadata": {},
   "outputs": [
    {
     "name": "stdout",
     "output_type": "stream",
     "text": [
      "Help on method_descriptor:\n",
      "\n",
      "isdecimal(self, /)\n",
      "    Return True if the string is a decimal string, False otherwise.\n",
      "    \n",
      "    A string is a decimal string if all characters in the string are decimal and\n",
      "    there is at least one character in the string.\n",
      "\n"
     ]
    }
   ],
   "source": [
    "help(str.isdecimal)"
   ]
  },
  {
   "cell_type": "markdown",
   "id": "af626a89",
   "metadata": {},
   "source": [
    "### isdigit()\n",
    "* The isdigit() method returns True if all the characters are digits, otherwise False.\n",
    "\n",
    "* Exponents, like ², are also considered to be a digit.\n",
    "\n"
   ]
  },
  {
   "cell_type": "code",
   "execution_count": 7,
   "id": "031b82da",
   "metadata": {},
   "outputs": [
    {
     "name": "stdout",
     "output_type": "stream",
     "text": [
      "True\n"
     ]
    }
   ],
   "source": [
    "txt = \"50800\"\n",
    "\n",
    "x = txt.isdigit()\n",
    "\n",
    "print(x)"
   ]
  },
  {
   "cell_type": "code",
   "execution_count": 30,
   "id": "cdc8d73b",
   "metadata": {},
   "outputs": [
    {
     "name": "stdout",
     "output_type": "stream",
     "text": [
      "Help on method_descriptor:\n",
      "\n",
      "isdigit(self, /)\n",
      "    Return True if the string is a digit string, False otherwise.\n",
      "    \n",
      "    A string is a digit string if all characters in the string are digits and there\n",
      "    is at least one character in the string.\n",
      "\n"
     ]
    }
   ],
   "source": [
    "help(str.isdigit)"
   ]
  },
  {
   "cell_type": "markdown",
   "id": "d0093acc",
   "metadata": {},
   "source": [
    "### istitle()\n",
    "* every word of the string should start with a capital letter then it returns True otherwise it will return false.\n",
    "* symbols and numbers are ignored"
   ]
  },
  {
   "cell_type": "code",
   "execution_count": 38,
   "id": "7f9b4963",
   "metadata": {},
   "outputs": [
    {
     "name": "stdout",
     "output_type": "stream",
     "text": [
      "False\n",
      "True\n",
      "True\n"
     ]
    }
   ],
   "source": [
    "a='Hello world'\n",
    "b='How Was Your Day?'\n",
    "c='22 Names'\n",
    "\n",
    "print(a.istitle())\n",
    "print(b.istitle())\n",
    "print(c.istitle())"
   ]
  },
  {
   "cell_type": "markdown",
   "id": "4935fc04",
   "metadata": {},
   "source": [
    "### isidentifier()\n",
    "* the isidentifier() method returns true if the string is a valid identifier\n",
    "* a string is considerd as a valid identifier if it only contains alphanumeric letters(a-z) and (0-9),or underscores(_)\n",
    "* a valid identifier cannot starts with a number or contain spaces."
   ]
  },
  {
   "cell_type": "code",
   "execution_count": 41,
   "id": "c62b709f",
   "metadata": {},
   "outputs": [
    {
     "name": "stdout",
     "output_type": "stream",
     "text": [
      "False\n",
      "True\n",
      "False\n"
     ]
    }
   ],
   "source": [
    "a='happy birthday'\n",
    "b='helloworld'\n",
    "c='2hii'\n",
    "\n",
    "\n",
    "print(a.isidentifier())\n",
    "print(b.isidentifier())\n",
    "print(c.isidentifier())"
   ]
  },
  {
   "cell_type": "markdown",
   "id": "d60601ee",
   "metadata": {},
   "source": [
    "### isnumeric()\n",
    "* the isnumeric() method returns true if all the characters are numeric(0-9)\n",
    "* exponents are also considered to be numeric\n",
    "* it does not take '-' and '.'(point values)"
   ]
  },
  {
   "cell_type": "code",
   "execution_count": 43,
   "id": "d3861e0c",
   "metadata": {},
   "outputs": [
    {
     "data": {
      "text/plain": [
       "False"
      ]
     },
     "execution_count": 43,
     "metadata": {},
     "output_type": "execute_result"
    }
   ],
   "source": [
    "a='hello'\n",
    "a.isnumeric()"
   ]
  },
  {
   "cell_type": "code",
   "execution_count": 45,
   "id": "88072d0f",
   "metadata": {},
   "outputs": [
    {
     "name": "stdout",
     "output_type": "stream",
     "text": [
      "True\n"
     ]
    }
   ],
   "source": [
    "b='23456'\n",
    "print(b.isnumeric())"
   ]
  },
  {
   "cell_type": "code",
   "execution_count": 57,
   "id": "e1949428",
   "metadata": {},
   "outputs": [
    {
     "name": "stdout",
     "output_type": "stream",
     "text": [
      "True\n"
     ]
    }
   ],
   "source": [
    "c='23'\n",
    "print(c.isnumeric())"
   ]
  },
  {
   "cell_type": "markdown",
   "id": "575fd991",
   "metadata": {},
   "source": [
    "### isprintable()\n",
    "* The isprintable() method returns True if all the characters are printable, otherwise False.\n",
    "\n",
    "* Example of none printable character can be carriage return and line feed.\n",
    "\n"
   ]
  },
  {
   "cell_type": "code",
   "execution_count": 2,
   "id": "7c6bc767",
   "metadata": {},
   "outputs": [
    {
     "data": {
      "text/plain": [
       "True"
      ]
     },
     "execution_count": 2,
     "metadata": {},
     "output_type": "execute_result"
    }
   ],
   "source": [
    "a = \"Hello! Are you #1?\"\n",
    "a.isprintable()"
   ]
  },
  {
   "cell_type": "code",
   "execution_count": 3,
   "id": "4e2adafa",
   "metadata": {},
   "outputs": [
    {
     "data": {
      "text/plain": [
       "False"
      ]
     },
     "execution_count": 3,
     "metadata": {},
     "output_type": "execute_result"
    }
   ],
   "source": [
    "b='hi \\n how r u?'\n",
    "b.isprintable()"
   ]
  },
  {
   "cell_type": "markdown",
   "id": "bd2b3589",
   "metadata": {},
   "source": [
    "### isspace\n",
    "* The isspace() method returns True if all the characters in a string are whitespaces, otherwise False."
   ]
  },
  {
   "cell_type": "code",
   "execution_count": 4,
   "id": "f497ed1b",
   "metadata": {},
   "outputs": [
    {
     "data": {
      "text/plain": [
       "False"
      ]
     },
     "execution_count": 4,
     "metadata": {},
     "output_type": "execute_result"
    }
   ],
   "source": [
    "a='good morning'\n",
    "a.isspace()"
   ]
  },
  {
   "cell_type": "code",
   "execution_count": 6,
   "id": "0556c6fd",
   "metadata": {},
   "outputs": [
    {
     "data": {
      "text/plain": [
       "True"
      ]
     },
     "execution_count": 6,
     "metadata": {},
     "output_type": "execute_result"
    }
   ],
   "source": [
    "b='   '\n",
    "b.isspace()"
   ]
  },
  {
   "cell_type": "code",
   "execution_count": null,
   "id": "e5a4d16b",
   "metadata": {},
   "outputs": [],
   "source": []
  }
 ],
 "metadata": {
  "kernelspec": {
   "display_name": "Python 3 (ipykernel)",
   "language": "python",
   "name": "python3"
  },
  "language_info": {
   "codemirror_mode": {
    "name": "ipython",
    "version": 3
   },
   "file_extension": ".py",
   "mimetype": "text/x-python",
   "name": "python",
   "nbconvert_exporter": "python",
   "pygments_lexer": "ipython3",
   "version": "3.10.9"
  }
 },
 "nbformat": 4,
 "nbformat_minor": 5
}
